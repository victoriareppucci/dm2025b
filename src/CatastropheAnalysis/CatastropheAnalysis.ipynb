{
  "nbformat": 4,
  "nbformat_minor": 0,
  "metadata": {
    "colab": {
      "provenance": []
    },
    "kernelspec": {
      "name": "ir",
      "display_name": "R"
    },
    "language_info": {
      "name": "R"
    }
  },
  "cells": [
    {
      "cell_type": "markdown",
      "source": [
        "# 5.6 Catastrophe Analysis"
      ],
      "metadata": {
        "id": "O94qX1svwzoC"
      }
    },
    {
      "cell_type": "markdown",
      "source": [
        "## 5.6.1 El origen del problema"
      ],
      "metadata": {
        "id": "HsJFTcBZw1bE"
      }
    },
    {
      "cell_type": "markdown",
      "source": [
        "El datawarehouse reside en una base de datos Oracle, donde gran cantidad de campos están definidos como NOT NULL y con initial value = 0  \n",
        "<br>Cada mes se crea una partición la que es inicializada automáticamente\n",
        "<br>Cada mes corren decenas de procesos que populan campos específicos de la partición yendo a buscar los datos a los sistemas transacciones\n",
        "<br>Si esos scripts no son corridos, y fallan,  los campos que debían modificar quedan en su initial value = 0\n",
        "\n",
        "En el mes de 2020-06 ocurrio una gran falla en la construcción del dataset y decenas de campos no se calcularon quedando en el DataWarehouse el valor por default de cero para TODOS los registros de esos campos."
      ],
      "metadata": {
        "id": "nsgvDbemw9Tc"
      }
    },
    {
      "cell_type": "markdown",
      "source": [
        "#### 5.6.2  Seteo del ambiente en Google Colab"
      ],
      "metadata": {
        "id": "PX0qg_c0yqob"
      }
    },
    {
      "cell_type": "markdown",
      "metadata": {
        "id": "NGY7H9xza7Zr"
      },
      "source": [
        "Esta parte se debe correr con el runtime en Python3\n",
        "<br>Ir al menu, Runtime -> Change Runtime Type -> Runtime type ->  **Python 3**"
      ]
    },
    {
      "cell_type": "markdown",
      "metadata": {
        "id": "7PupIBNba7Zr"
      },
      "source": [
        "Conectar la virtual machine donde esta corriendo Google Colab con el  Google Drive, para poder tener persistencia de archivos"
      ]
    },
    {
      "cell_type": "code",
      "execution_count": null,
      "metadata": {
        "id": "9LpZCst5a7Zs"
      },
      "outputs": [],
      "source": [
        "# primero establecer el Runtime de Python 3\n",
        "from google.colab import drive\n",
        "drive.mount('/content/.drive')"
      ]
    },
    {
      "cell_type": "markdown",
      "metadata": {
        "id": "JYC_F-wla7Zs"
      },
      "source": [
        "Para correr la siguiente celda es fundamental en Arranque en Frio haber copiado el archivo kaggle.json al Google Drive, en la carpeta indicada en el instructivo\n",
        "\n",
        "<br>los siguientes comando estan en shell script de Linux\n",
        "*   Crear las carpetas en el Google Drive\n",
        "*   \"instalar\" el archivo kaggle.json desde el Google Drive a la virtual machine para que pueda ser utilizado por la libreria  kaggle de Python\n",
        "*   Bajar el  **dataset_pequeno**  al  Google Drive  y tambien al disco local de la virtual machine que esta corriendo Google Colab\n",
        "*   Bajar el **dataset_historico** al Google Drive y tambien al disco local de la virtual machine que esta corriendo Google Colab\n",
        "\n"
      ]
    },
    {
      "cell_type": "markdown",
      "source": [
        "*  Si usted eligió modalidad *Gerencial* entonces NO debe modificar nada, su liderazgo logró que merecidamente otras personas trabajaron por usted\n",
        "*  Si usted eligió modalidad de *Analista Junior*, entonces donde dice archivo=\"gerencial_competencia_2025.csv.gz\"  lo debe cambiar por  archivo=\"analistajr_competencia_2025.csv.gz\"\n",
        "*  Si usted eligió modalidad *Analista Senior*,  ya se las ingenierá SIN preguntar !"
      ],
      "metadata": {
        "id": "4fcqHsG9hdlx"
      }
    },
    {
      "cell_type": "code",
      "execution_count": null,
      "metadata": {
        "id": "XWLelftXa7Zt"
      },
      "outputs": [],
      "source": [
        "%%shell\n",
        "\n",
        "mkdir -p \"/content/.drive/My Drive/dm\"\n",
        "mkdir -p \"/content/buckets\"\n",
        "ln -s \"/content/.drive/My Drive/dm\" /content/buckets/b1\n",
        "\n",
        "mkdir -p ~/.kaggle\n",
        "cp /content/buckets/b1/kaggle/kaggle.json  ~/.kaggle\n",
        "chmod 600 ~/.kaggle/kaggle.json\n",
        "\n",
        "\n",
        "mkdir -p /content/buckets/b1/exp\n",
        "mkdir -p /content/buckets/b1/datasets\n",
        "mkdir -p /content/datasets\n",
        "\n",
        "\n",
        "\n",
        "archivo_origen=\"https://storage.googleapis.com/open-courses/itba2025-8d0a/gerencial_competencia_2025.csv.gz\"\n",
        "archivo_destino=\"/content/datasets/gerencial_competencia_2025.csv.gz\"\n",
        "archivo_destino_bucket=\"/content/buckets/b1/datasets/gerencial_competencia_2025.csv.gz\"\n",
        "\n",
        "if ! test -f $archivo_destino_bucket; then\n",
        "  wget  $archivo_origen  -O $archivo_destino_bucket\n",
        "fi\n",
        "\n",
        "\n",
        "if ! test -f $archivo_destino; then\n",
        "  cp  $archivo_destino_bucket  $archivo_destino\n",
        "fi\n"
      ]
    },
    {
      "cell_type": "markdown",
      "source": [
        "### 5.6.3  Analisis de los daños al dataset"
      ],
      "metadata": {
        "id": "oSKhZRToy2F7"
      }
    },
    {
      "cell_type": "markdown",
      "metadata": {
        "id": "eSU5vi00CPRS"
      },
      "source": [
        "Esta parte se debe correr con el runtime en lenguaje **R** Ir al menu, Runtime -> Change Runtime Type -> Runtime type -> R"
      ]
    },
    {
      "cell_type": "markdown",
      "metadata": {
        "id": "Zq8dySimCPRT"
      },
      "source": [
        "limpio el ambiente de R"
      ]
    },
    {
      "cell_type": "code",
      "execution_count": null,
      "metadata": {
        "id": "1iE0U4_WCPRT"
      },
      "outputs": [],
      "source": [
        "# limpio la memoria\n",
        "rm(list=ls(all.names=TRUE)) # remove all objects\n",
        "gc(full=TRUE, verbose=FALSE) # garbage collection"
      ]
    },
    {
      "cell_type": "code",
      "execution_count": null,
      "metadata": {
        "id": "BJDwdD0dCPRU"
      },
      "outputs": [],
      "source": [
        "# cargo las librerias que necesito\n",
        "require(\"data.table\")\n",
        "\n",
        "if( !require(\"R.utils\")) install.packages(\"R.utils\")\n",
        "require(\"R.utils\")"
      ]
    },
    {
      "cell_type": "markdown",
      "source": [
        "Si es gerente, no cambie nada\n",
        "<br>Si es Analista, cambie el nombre del dataset"
      ],
      "metadata": {
        "id": "BsxZ_ONyj9L_"
      }
    },
    {
      "cell_type": "code",
      "source": [
        "PARAM <- list()\n",
        "PARAM$experimento <- 5630\n",
        "PARAM$dataset <- \"gerencial_competencia_2025.csv.gz\""
      ],
      "metadata": {
        "id": "peRH7ySLCPRV"
      },
      "execution_count": null,
      "outputs": []
    },
    {
      "cell_type": "code",
      "source": [
        "# carpeta de trabajo\n",
        "setwd(\"/content/buckets/b1/exp\")\n",
        "experimento_folder <- paste0(\"CA\", PARAM$experimento)\n",
        "dir.create(experimento_folder, showWarnings=FALSE)\n",
        "setwd( paste0(\"/content/buckets/b1/exp/\", experimento_folder ))"
      ],
      "metadata": {
        "id": "1gZD6ZMvCPRV"
      },
      "execution_count": null,
      "outputs": []
    },
    {
      "cell_type": "code",
      "source": [
        "# lectura del dataset\n",
        "dataset <- fread(paste0(\"/content/datasets/\", PARAM$dataset))"
      ],
      "metadata": {
        "id": "Xi0emX2ECPRV"
      },
      "execution_count": null,
      "outputs": []
    },
    {
      "cell_type": "code",
      "source": [
        "# ordeno el dataset\n",
        "setorder(dataset, foto_mes, numero_de_cliente)"
      ],
      "metadata": {
        "id": "-3XuBeDy1Ugj"
      },
      "execution_count": null,
      "outputs": []
    },
    {
      "cell_type": "code",
      "source": [
        "# los campos que se van a utilizar\n",
        "campos_buenos <- setdiff(\n",
        "  colnames(dataset),\n",
        "  c(\"numero_de_cliente\", \"foto_mes\", \"clase_ternaria\")\n",
        ")"
      ],
      "metadata": {
        "id": "h8Anoo4Sel8S"
      },
      "execution_count": null,
      "outputs": []
    },
    {
      "cell_type": "code",
      "source": [
        "# Para cada variable ,\n",
        "# grafico para cada mes el ratio de ceros que tiene esa variable\n",
        "# el zeroes_ratio de una variable para un mes dado\n",
        "# es el cociente entre\n",
        "#   la cantidad de veces que la variable toma el valor cero ese mes\n",
        "#   y la cantidad total de registros para ese mes\n",
        "\n",
        "# pdf(\"zeroes_ratio.pdf\")\n",
        "\n",
        "for (campo in campos_buenos) {\n",
        "  tbl <- dataset[\n",
        "    ,\n",
        "    list(\"zero_ratio\" = sum(get(campo) == 0, na.rm = TRUE) / .N),\n",
        "    foto_mes\n",
        "  ]\n",
        "\n",
        "  ymin <- min(tbl$zero_ratio)\n",
        "  ymax <- max(tbl$zero_ratio)\n",
        "  if (ymin == 0) ymin <- -0.1\n",
        "  if (ymax == 0) ymax <- 0.1\n",
        "\n",
        "  plot(\n",
        "    x = 1:nrow(tbl),\n",
        "    y = tbl$zero_ratio,\n",
        "    type = \"o\",\n",
        "    main = paste0(\"Zeroes ratio  -  \", campo),\n",
        "    xlab = \"Periodo\",\n",
        "    ylab = \"Zeroes  ratio\",\n",
        "    ylim = c(ymin, ymax),\n",
        "    xaxt = \"n\"\n",
        "  )\n",
        "\n",
        "  axis(1, at = 1:nrow(tbl), labels = tbl$foto_mes)\n",
        "\n",
        "  abline(\n",
        "    v = c(1, 13, 25),\n",
        "    col = c(\"green\", \"green\", \"green\"),\n",
        "    lty = c(1, 1, 1),\n",
        "    lwd = c(1, 1, 1)\n",
        "  )\n",
        "\n",
        "  abline(\n",
        "    v = c(7, 19, 31),\n",
        "    col = c(\"green\", \"green\", \"green\"),\n",
        "    lty = c(3, 3, 3),\n",
        "    lwd = c(1, 1, 1)\n",
        "  )\n",
        "}\n",
        "\n",
        "# dev.off()\n"
      ],
      "metadata": {
        "id": "9c2JPFZAqtqV"
      },
      "execution_count": null,
      "outputs": []
    },
    {
      "cell_type": "code",
      "source": [
        "# Para cada variable ,\n",
        "# grafico para cada mes el ratio de NAs que tiene esa variable\n",
        "# el nas_ratio de una variable para un mes dado\n",
        "# es el cociente entre\n",
        "#   la cantidad de veces que la variable toma el valor nulo (NA) ese mes\n",
        "#   y la cantidad total de registros para ese mes\n",
        "\n",
        "# pdf(\"nas_ratio.pdf\")\n",
        "\n",
        "for (campo in campos_buenos) {\n",
        "  tbl <- dataset[\n",
        "    ,\n",
        "    list(\"na_ratio\" = sum(is.na(get(campo)), na.rm = TRUE) / .N),\n",
        "    foto_mes\n",
        "  ]\n",
        "\n",
        "  ymin <- min(tbl$na_ratio)\n",
        "  ymax <- max(tbl$na_ratio)\n",
        "  if (ymin == 0) ymin <- -0.1\n",
        "  if (ymax == 0) ymax <- 0.1\n",
        "\n",
        "  plot(\n",
        "    x = 1:nrow(tbl),\n",
        "    y = tbl$na_ratio,\n",
        "    type = \"o\",\n",
        "    main = paste0(\"NAs ratio  -  \", campo),\n",
        "    xlab = \"Periodo\",\n",
        "    ylab = \"NAs  ratio\",\n",
        "    ylim = c(ymin, ymax),\n",
        "    xaxt = \"n\"\n",
        "  )\n",
        "\n",
        "  axis(1, at = 1:nrow(tbl), labels = tbl$foto_mes)\n",
        "\n",
        "  abline(\n",
        "    v = c(1, 13, 25),\n",
        "    col = c(\"green\", \"green\", \"green\"),\n",
        "    lty = c(1, 1, 1),\n",
        "    lwd = c(1, 1, 1)\n",
        "  )\n",
        "\n",
        "  abline(\n",
        "    v = c(7, 19, 31),\n",
        "    col = c(\"green\", \"green\", \"green\"),\n",
        "    lty = c(3, 3, 3),\n",
        "    lwd = c(1, 1, 1)\n",
        "  )\n",
        "}\n",
        "\n",
        "# dev.off()\n"
      ],
      "metadata": {
        "id": "pK8da_qWqwGF"
      },
      "execution_count": null,
      "outputs": []
    },
    {
      "cell_type": "code",
      "source": [
        "# Para cada variable , grafico para cada mes el promedio de esa variable\n",
        "# el promedio de una variable para un mes dado es\n",
        "# la definicion tradicional de promedio\n",
        "\n",
        "\n",
        "# pdf(\"promedios.pdf\")\n",
        "\n",
        "for (campo in campos_buenos) {\n",
        "  tbl <- dataset[\n",
        "    ,\n",
        "    list(\"promedio\" = mean(get(campo), na.rm = TRUE)),\n",
        "    foto_mes\n",
        "  ]\n",
        "\n",
        "  ceros <- dataset[\n",
        "    ,\n",
        "    list(\"zero_ratio\" = sum(get(campo) == 0, na.rm = TRUE) / .N),\n",
        "    foto_mes\n",
        "  ]\n",
        "\n",
        "  plot(\n",
        "    x = 1:nrow(tbl),\n",
        "    y = tbl$promedio,\n",
        "    type = \"o\",\n",
        "    main = paste0(\"Promedios  -  \", campo),\n",
        "    xlab = \"Periodo\",\n",
        "    ylab = \"Promedio\",\n",
        "    xaxt = \"n\"\n",
        "  )\n",
        "\n",
        "  axis(1, at = 1:nrow(tbl), labels = tbl$foto_mes)\n",
        "\n",
        "  abline(\n",
        "    v = c(1, 13, 25),\n",
        "    col = c(\"green\", \"green\", \"green\"),\n",
        "    lty = c(1, 1, 1),\n",
        "    lwd = c(1, 1, 1)\n",
        "  )\n",
        "\n",
        "  abline(\n",
        "    v = c(7, 19, 31),\n",
        "    col = c(\"green\", \"green\", \"green\"),\n",
        "    lty = c(3, 3, 3),\n",
        "    lwd = c(1, 1, 1)\n",
        "  )\n",
        "\n",
        "  for (i in 1:nrow(tbl)) {\n",
        "    if (ceros[i, zero_ratio] > 0.99 & median(ceros[, zero_ratio]) < 0.99) {\n",
        "      abline(\n",
        "        v = c(i),\n",
        "        col = c(\"red\"), lty = c(1), lwd = c(1)\n",
        "      )\n",
        "    }\n",
        "  }\n",
        "}\n",
        "\n",
        "# dev.off()\n"
      ],
      "metadata": {
        "id": "IpNzyAcxqy_7"
      },
      "execution_count": null,
      "outputs": []
    },
    {
      "cell_type": "code",
      "source": [
        "# Para cada variable ,\n",
        "#  grafico para cada mes el promedio de esa variable\n",
        "#   cuando la variable es DISTINTA de cero\n",
        "# el promedio_nocero de una variable para un mes dado\n",
        "# es el promedios del conjunto de valores de esa variable para ese mes\n",
        "#   tales que no no son ni nulos ni tampoco valen cero\n",
        "\n",
        "# pdf(\"promedios_nocero.pdf\")\n",
        "\n",
        "for (campo in campos_buenos) {\n",
        "  tbl <- dataset[\n",
        "    get(campo) != 0,\n",
        "    list(\"promedio\" = mean(get(campo), na.rm = TRUE)),\n",
        "    foto_mes\n",
        "  ]\n",
        "\n",
        "  ceros <- dataset[\n",
        "    ,\n",
        "    list(\"zero_ratio\" = sum(get(campo) == 0, na.rm = TRUE) / .N),\n",
        "    foto_mes\n",
        "  ]\n",
        "\n",
        "  plot(\n",
        "    x = 1:nrow(tbl),\n",
        "    y = tbl$promedio,\n",
        "    type = \"o\",\n",
        "    main = paste0(\"Promedios NO cero -  \", campo),\n",
        "    xlab = \"Periodo\",\n",
        "    ylab = \"Promedio valores no cero\",\n",
        "    xaxt = \"n\"\n",
        "  )\n",
        "\n",
        "  axis(1, at = 1:nrow(tbl), labels = tbl$foto_mes)\n",
        "\n",
        "  abline(\n",
        "    v = c(1, 13, 25),\n",
        "    col = c(\"green\", \"green\", \"green\"),\n",
        "    lty = c(1, 1, 1),\n",
        "    lwd = c(1, 1, 1)\n",
        "  )\n",
        "\n",
        "  abline(\n",
        "    v = c(7, 19, 31),\n",
        "    col = c(\"green\", \"green\", \"green\"),\n",
        "    lty = c(3, 3, 3),\n",
        "    lwd = c(1, 1, 1)\n",
        "  )\n",
        "\n",
        "  for (i in 1:nrow(tbl)) {\n",
        "    if (ceros[i, zero_ratio] > 0.99 & median(ceros[, zero_ratio]) < 0.99) {\n",
        "      abline(v = c(i), col = c(\"red\"), lty = c(1), lwd = c(1))\n",
        "    }\n",
        "  }\n",
        "}\n",
        "\n",
        "# dev.off()\n",
        "\n"
      ],
      "metadata": {
        "id": "q10g0DhSq2VE"
      },
      "execution_count": null,
      "outputs": []
    },
    {
      "cell_type": "markdown",
      "metadata": {
        "id": "0vu-1vf5LrVg"
      },
      "source": [
        "\n",
        "\n",
        "---\n",
        "\n"
      ]
    }
  ]
}